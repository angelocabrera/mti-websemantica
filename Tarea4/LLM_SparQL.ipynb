{
  "cells": [
    {
      "cell_type": "markdown",
      "metadata": {},
      "source": [
        "# Instalar librerías requeridas"
      ]
    },
    {
      "cell_type": "code",
      "execution_count": null,
      "metadata": {
        "id": "PbkwVNmWJskW"
      },
      "outputs": [],
      "source": [
        "# Instalar rdflib y sparqlwrapper\n",
        "!pip install rdflib sparqlwrapper google-generativeai"
      ]
    },
    {
      "cell_type": "code",
      "execution_count": 36,
      "metadata": {
        "id": "QzgVvxDKJMqk"
      },
      "outputs": [],
      "source": [
        "# Importar las bibliotecas necesarias\n",
        "from rdflib import Graph\n",
        "from rdflib.plugins.sparql import prepareQuery\n",
        "import requests\n",
        "from google.colab import userdata\n",
        "import google.generativeai as genai\n",
        "\n",
        "# Endpoint Data.World\n",
        "endpoint_url = \"https://query.data.world/sparql/acabreramti/farmacias-chile\"\n"
      ]
    },
    {
      "cell_type": "code",
      "execution_count": 62,
      "metadata": {
        "id": "l_1pi_TOLMWW"
      },
      "outputs": [],
      "source": [
        "data_world_token = userdata.get('DATA_WORLD_API_KEY')\n",
        "gemini_api_key = userdata.get('GOOGLE_API_KEY_1')\n",
        "\n",
        "generation_config = {\n",
        "  \"temperature\": 1,\n",
        "  \"top_p\": 0.95,\n",
        "  \"top_k\": 40,\n",
        "  \"max_output_tokens\": 8192,\n",
        "  \"response_mime_type\": \"text/plain\",\n",
        "}\n",
        "\n",
        "model = genai.GenerativeModel(\n",
        "  model_name=\"gemini-2.0-flash-exp\",\n",
        "  generation_config=generation_config,\n",
        ")"
      ]
    },
    {
      "cell_type": "code",
      "execution_count": 63,
      "metadata": {
        "id": "eBpKkRk6M50q"
      },
      "outputs": [],
      "source": [
        "# Definir la consulta SPARQL\n",
        "sparql_query = \"\"\"\n",
        "    PREFIX ex: <https://midas.minsal.cl/>\n",
        "    PREFIX schema: <https://schema.org/>\n",
        "\n",
        "\n",
        "      SELECT ?comuna (COUNT(?farmacia) AS ?farmacias)\n",
        "      WHERE {\n",
        "        ?farmacia a schema:Pharmacy ;\n",
        "                  ex:comuna ?comuna .\n",
        "      }\n",
        "    GROUP BY ?comuna\n",
        "    ORDER BY DESC(?farmacias)\n",
        "\"\"\""
      ]
    },
    {
      "cell_type": "code",
      "execution_count": 50,
      "metadata": {
        "id": "UKkYIDEzKRtl"
      },
      "outputs": [],
      "source": [
        "def query_with_token(endpoint, query, token):\n",
        "    headers = {\n",
        "        \"Authorization\": f\"Bearer {token}\",\n",
        "        \"Content-Type\": \"application/sparql-query\",\n",
        "        \"Accept\": \"application/sparql-results+json\"\n",
        "    }\n",
        "\n",
        "    response = requests.post(endpoint, headers=headers, data=query)\n",
        "    response.raise_for_status()\n",
        "\n",
        "    return response.json()"
      ]
    },
    {
      "cell_type": "code",
      "execution_count": 59,
      "metadata": {
        "id": "k84KkLtAO8qO"
      },
      "outputs": [],
      "source": [
        "def get_data_from_dataworld(sparql_query):\n",
        "    try:\n",
        "      results_json = query_with_token(endpoint_url, sparql_query, data_world_token)\n",
        "    except requests.exceptions.RequestException as e:\n",
        "      print(f\"Error al ejecutar la consulta en Data.world: {e}\")\n",
        "      return None\n",
        "\n",
        "    data_list = []\n",
        "\n",
        "    if results_json and \"results\" in results_json and \"bindings\" in results_json[\"results\"]:\n",
        "      for row in results_json[\"results\"][\"bindings\"]:\n",
        "          data_list.append(row)\n",
        "\n",
        "    return data_list\n",
        "\n",
        "def get_gemini_response_with_dataworld(user_query, sparql_query):\n",
        "    data_from_dataworld = get_data_from_dataworld(sparql_query)\n",
        "\n",
        "    context = \"\"\n",
        "    if data_from_dataworld:\n",
        "      context += \"Aquí hay algunos datos de Data.world que pueden ser relevantes para tu pregunta:\\n\"\n",
        "      for row in data_from_dataworld:\n",
        "        context += f\"{row}\\n\"\n",
        "    else:\n",
        "      context += \"No se encontraron datos relevantes en Data.world.\\n\"\n",
        "\n",
        "    prompt = f\"Usuario: {user_query}\\n\\nContexto:\\n{context}\\n\\nRespuesta de Gemini:\"\n",
        "\n",
        "    try:\n",
        "      response = model.generate_content(prompt)\n",
        "      return response.text\n",
        "    except Exception as e:\n",
        "      return f\"Error al obtener la respuesta de Gemini: {e}\""
      ]
    },
    {
      "cell_type": "code",
      "execution_count": 64,
      "metadata": {
        "colab": {
          "base_uri": "https://localhost:8080/",
          "height": 69
        },
        "id": "UyB-wF-PPcjj",
        "outputId": "95325621-772f-45db-a052-8e81e4553d2b"
      },
      "outputs": [
        {
          "name": "stdout",
          "output_type": "stream",
          "text": [
            "Respuesta de Gemini:\n",
            "El JSON proporcionado contiene información sobre la cantidad de farmacias en varias comunas. Tras analizar el JSON, se encontró que **en la comuna de Talcahuano hay 31 farmacias**.\n",
            "\n"
          ]
        }
      ],
      "source": [
        "system = \"\"\"\n",
        "    Antes de responder la pregunta, analiza el JSON que se adjunta como contexto.\n",
        "    Este json es la respuesta de un endpoint de data.world a una consulta en SparQL.\n",
        "    Analízalo adecuadamente.\n",
        "    Luego, si no hay informacion relevante en el JSON, busca en tus propios datos para tratar de responder.\n",
        "    La pregunta es:\n",
        "    \"\"\"\n",
        "user_query = \"Cuantas farmacias hay en la comuna de Talcahuano?\"\n",
        "gemini_response = get_gemini_response_with_dataworld(system+user_query, sparql_query)\n",
        "print(f\"Respuesta de Gemini:\\n{gemini_response}\")"
      ]
    }
  ],
  "metadata": {
    "colab": {
      "provenance": []
    },
    "kernelspec": {
      "display_name": "Python 3",
      "name": "python3"
    },
    "language_info": {
      "name": "python"
    }
  },
  "nbformat": 4,
  "nbformat_minor": 0
}
